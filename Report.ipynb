{
 "cells": [
  {
   "cell_type": "markdown",
   "id": "a217d29b",
   "metadata": {},
   "source": [
    "# Basics of mobile robotics - EPFL"
   ]
  },
  {
   "cell_type": "markdown",
   "id": "ea3d597e",
   "metadata": {},
   "source": [
    "## Thymio Project - 12.12.2021"
   ]
  },
  {
   "cell_type": "markdown",
   "id": "d8714ca2",
   "metadata": {},
   "source": [
    "Iskandar Khemakhem, Erik Börve, Maximilian van Amerongen, Romane Belda"
   ]
  },
  {
   "cell_type": "markdown",
   "id": "8d1de466",
   "metadata": {},
   "source": [
    "## Abstract"
   ]
  },
  {
   "cell_type": "markdown",
   "id": "47a95259",
   "metadata": {},
   "source": [
    "This report presents the choices we made to achive the project goal of navigating the differential drive robot, refered to as \"Thymio\", in an enviorment containing known and unknown obstacles. Furthermore, certain parts of the code will be highlighted to support the made design choices.\n",
    "\n",
    "To achieve the goal, different image processing techniques have been applied to sense Thymio's enviornment and to build up a map. Different path planning techniques were applied to the map to come up with a path that navigates the robot from its start to its goal position.\n",
    "A Kalman Fitler was designed to fuse different sensors and localize the Thymio on the map.\n",
    "\n",
    "Finally, simple motion control combined with local obstacle avoidance has been applied to achieve path following and to avoid unknown obstacles."
   ]
  },
  {
   "cell_type": "markdown",
   "id": "d5e0413d",
   "metadata": {},
   "source": [
    "## Introduction"
   ]
  },
  {
   "cell_type": "markdown",
   "id": "65daf204",
   "metadata": {},
   "source": [
    "December 2021, a group of 4 students has kipnapped one of the famous robots, called \"Thymio\". Thymio is having a hard time with the students, why he is trying to escape from them and to return back to its creator Mr. Thymio. However, it turns out that this is not easy task. During his journey, Thymio will face global obstacles, students will cross his path (local obstacles) and he will be kipnapped for a second time. The question is, in this difficult circumstances, will Thymio manage to reach his goal to be reunited with its creator agian?\n",
    "\n",
    "We wish him all the best."
   ]
  },
  {
   "cell_type": "markdown",
   "id": "82ede6d0",
   "metadata": {},
   "source": [
    "![Set Up](Report_Images/set_up.jpg)"
   ]
  },
  {
   "cell_type": "code",
   "execution_count": 6,
   "id": "c6cf012b",
   "metadata": {},
   "outputs": [
    {
     "data": {
      "text/html": [
       "<video src=\"Video/ThymioProject_LowQual.mp4\" controls  >\n",
       "      Your browser does not support the <code>video</code> element.\n",
       "    </video>"
      ],
      "text/plain": [
       "<IPython.core.display.Video object>"
      ]
     },
     "execution_count": 6,
     "metadata": {},
     "output_type": "execute_result"
    }
   ],
   "source": [
    "Video(\"Video/ThymioProject_LowQual.mp4\")"
   ]
  },
  {
   "cell_type": "markdown",
   "id": "6adc65e7",
   "metadata": {},
   "source": [
    "## Vision "
   ]
  },
  {
   "cell_type": "markdown",
   "id": "82342b83",
   "metadata": {},
   "source": [
    "### Image processing for environment"
   ]
  },
  {
   "cell_type": "markdown",
   "id": "1a9868f3",
   "metadata": {},
   "source": [
    "First, taking the raw camera input and reading it as a grayscale image yields the following result."
   ]
  },
  {
   "cell_type": "markdown",
   "id": "b81ddd33",
   "metadata": {},
   "source": [
    "![camera_input](Report_Images/input_img.png)"
   ]
  },
  {
   "cell_type": "markdown",
   "id": "0b19231e",
   "metadata": {},
   "source": [
    "The grayscaled images are the preprocessed in 3 steps. To preserve the edges in the initial smoothing step, a bilateral filter was applied. After smoothing, it was possible to perform a threshholding operation which was tuned based on the current lighting conditions to maximize accuracy. Finnaly, a morphological opening filter was applied to remove any potential noise and smooth edges."
   ]
  },
  {
   "cell_type": "markdown",
   "id": "babae999",
   "metadata": {},
   "source": [
    "![Camera_input](Report_Images/preprocess_img.png)"
   ]
  },
  {
   "cell_type": "markdown",
   "id": "f91a472d",
   "metadata": {},
   "source": [
    "To then identify the environment, the contours of the image are then calculated.\n",
    "To ensure that the correct contour is found, the maximum distance between the extreme points of the contour is calculated. \n",
    "The correct contour then corresponds to contour with the largest calculated distance. This gives the following,"
   ]
  },
  {
   "cell_type": "markdown",
   "id": "d15debb3",
   "metadata": {},
   "source": [
    "![contourz](Report_Images/contour_img.png)"
   ]
  },
  {
   "cell_type": "markdown",
   "id": "422c04e8",
   "metadata": {},
   "source": [
    "Finally, to express the environment from an appropriate perspective, a 4-point transform is computed using the corners of the contour. \n",
    "The result is a cropped and rotated frame that can be used both initially for the global pathfinding and continuously to give appropriate measurements for the kalman filter."
   ]
  },
  {
   "cell_type": "markdown",
   "id": "a6e6d066",
   "metadata": {},
   "source": [
    "![result](Report_Images/warp_img.png)"
   ]
  },
  {
   "cell_type": "markdown",
   "id": "4c0fb9f0",
   "metadata": {},
   "source": [
    "## Goal and start localization"
   ]
  },
  {
   "cell_type": "markdown",
   "id": "740f5fde",
   "metadata": {},
   "source": [
    "To have a robust localization of the beautiful goal the scale invariant feature transform (SIFT) algorithm was used. Applying this to the template and input image gives a set of matching features points in each corresponding image. To get a single fixed goal position the mean position of the 10 best SIFT correspondance was calculated. Obtaining the initial position of the Thymio was done using the Aruco packages which is described further in the localization section. The final result is the following,"
   ]
  },
  {
   "cell_type": "markdown",
   "id": "f839d270",
   "metadata": {},
   "source": [
    "![result](Report_Images/result_img.png)"
   ]
  },
  {
   "cell_type": "markdown",
   "id": "1889ec5a",
   "metadata": {},
   "source": [
    "## Global navigation "
   ]
  },
  {
   "cell_type": "markdown",
   "id": "3e1dcb0b",
   "metadata": {},
   "source": [
    "Having the map from the vision part in an array form, we start by down scaling the map to reduce the computation time. A maximum mask is used for this purpose, i.e., for a downscaling with a factor m in the $x$-direction and a facor n in the $y$-direction, every m $\\times$ n-square of pixels will be reduced to one pixel. In case there is any part of the obstacle in the mask, the resulting pixel will take the value of an obstacle.  \n",
    "The $x$- and $y$-coordinates of the obstacles in the scaled map are then extracted in a list and given to the path-planning."
   ]
  },
  {
   "cell_type": "code",
   "execution_count": 6,
   "id": "88e7d642",
   "metadata": {},
   "outputs": [
    {
     "name": "stdout",
     "output_type": "stream",
     "text": [
      "resolution of the scaled map:  (100, 141)\n",
      "robot radius: 9.0\n",
      "grid size: 6.0\n",
      "MAX_EDGE_LEN: 5.610068485175659\n"
     ]
    },
    {
     "data": {
      "text/plain": [
       "(-7.050000000000001, 148.05, -5.0, 105.0)"
      ]
     },
     "execution_count": 6,
     "metadata": {},
     "output_type": "execute_result"
    },
    {
     "data": {
      "image/png": "[encoded data removed]",
      "text/plain": [
       "<Figure size 432x288 with 1 Axes>"
      ]
     },
     "metadata": {
      "needs_background": "light"
     },
     "output_type": "display_data"
    }
   ],
   "source": [
    "#create a function to plot resulting map\n",
    "\n",
    "ox, oy, sx, sy, gx, gy, robot_radius, grid_size = get_map(globalMap, startPos, goalPos)\n",
    "plt.plot(ox, oy, \".k\")\n",
    "plt.plot(sx, sy, \"og\")\n",
    "plt.plot(gx, gy, \"xb\")\n",
    "plt.grid(True)\n",
    "plt.axis(\"equal\")"
   ]
  },
  {
   "cell_type": "markdown",
   "id": "3a9f798c",
   "metadata": {},
   "source": [
    "Knowing the environment and the start and end positions, we start by planning the path for navigating the map. To find a collision-free path from the robot to the goal, the following three path planning algorithms are tested in order to find the most efficient one: \n",
    "\n",
    "- A*\n",
    "- Probabilistic road map\n",
    "- Voronoi road map\n",
    "\n",
    "We use the Path planning library of Atsushi Sakai available on https://github.com/AtsushiSakai/PythonRobotics."
   ]
  },
  {
   "cell_type": "markdown",
   "id": "4f4eb981",
   "metadata": {},
   "source": [
    "### A*"
   ]
  },
  {
   "cell_type": "markdown",
   "id": "93bb2c55",
   "metadata": {},
   "source": [
    "The A* algorithm is a grid based algorithm that is based on the Dijkstra algorithm. The algorithm is widely used due to its completeness, optimality and optimal efficiency. The algorithm finds the lowest cost path from the start position to the end position with the cost function $f(n)$, with\n",
    "\n",
    "\\begin{equation}\n",
    "f(n) = h(n) + g(n)\n",
    "\\end{equation}\n",
    "\n",
    "A* explores a tree using a best first search principle with a heuristic $h(n)$ that gives the manhatten distance to the goal. The function $g(n)$ represents the cost of the path from start position to the node $n$. Here the function $g(n)$ penalizes the motion across the diagonals from one grid to the next by giving it a cost of $\\sqrt{2}$ compared to a cost of $1$ in the other cases. \n",
    "Note that for the differential drive robot a different cost function can be programmed to get a more feasible path. This is in our case unnecessary since the path will be smoothed afterwards."
   ]
  },
  {
   "cell_type": "code",
   "execution_count": 7,
   "id": "970f5234",
   "metadata": {},
   "outputs": [
    {
     "name": "stdout",
     "output_type": "stream",
     "text": [
      "min_x: 0\n",
      "min_y: 0\n",
      "max_x: 141\n",
      "max_y: 100\n",
      "x_width: 24\n",
      "y_width: 17\n",
      "Find goal\n"
     ]
    },
    {
     "data": {
      "image/png": "[encoded data removed]",
      "text/plain": [
       "<Figure size 432x288 with 1 Axes>"
      ]
     },
     "metadata": {
      "needs_background": "light"
     },
     "output_type": "display_data"
    }
   ],
   "source": [
    "# A_star algorithm\n",
    "\n",
    "a_star = AStarPlanner(ox, oy, grid_size, robot_radius)\n",
    "rx, ry = a_star.planning(sx, sy, gx, gy)\n",
    "rx.reverse()\n",
    "ry.reverse()\n",
    "plot_path(ox, oy, rx, ry, sx, sy, gx, gy)"
   ]
  },
  {
   "cell_type": "markdown",
   "id": "64d72996",
   "metadata": {},
   "source": []
  },
  {
   "cell_type": "markdown",
   "id": "6c680e8d",
   "metadata": {},
   "source": [
    "### Probabilistic road map"
   ]
  },
  {
   "cell_type": "markdown",
   "id": "e8946aa3",
   "metadata": {},
   "source": [
    "The probabilistic road map is a smpling based node that selects random points on the free space of a map. The random points form the vertices of a graph and the edges are formed to connect the vertices in the free space taking into consideration a predefined maximum edge length and the maximum degree of the graph (maximum number of edges for each vertex). A graph based search (Dijkstra) is then applied to find the shortest path. \n",
    "This algorithm is probabilistically complete and yields for high number of samples the optimal path."
   ]
  },
  {
   "cell_type": "code",
   "execution_count": 8,
   "id": "41ffa92d",
   "metadata": {},
   "outputs": [
    {
     "name": "stdout",
     "output_type": "stream",
     "text": [
      "number of sample_points 1500\n",
      "number of edges from one sampled point 500\n",
      "Maximum edge length 4\n",
      "goal is found!\n"
     ]
    },
    {
     "data": {
      "image/png": "[encoded data removed]",
      "text/plain": [
       "<Figure size 432x288 with 1 Axes>"
      ]
     },
     "metadata": {
      "needs_background": "light"
     },
     "output_type": "display_data"
    }
   ],
   "source": [
    "#probabilisitc road map\n",
    "# parameter\n",
    "N_SAMPLE = 1500  # number of sample_points\n",
    "N_KNN = 500  # number of edges from one sampled point\n",
    "MAX_EDGE_LEN = 4\n",
    "\n",
    "rx, ry = prm.prm_planning(sx, sy, gx, gy, ox, oy, robot_radius, N_SAMPLE, N_KNN, MAX_EDGE_LEN)\n",
    "rx.reverse()\n",
    "ry.reverse()\n",
    "plot_path(ox,oy,rx,ry, sx, sy, gx, gy)"
   ]
  },
  {
   "cell_type": "markdown",
   "id": "5695d6fa",
   "metadata": {},
   "source": [
    "### Voronoi Road Map"
   ]
  },
  {
   "cell_type": "markdown",
   "id": "567d237a",
   "metadata": {},
   "source": [
    "The Voronoi algorithm is based on generating a Voronoi partition of the map. A Voronoi partition of a map gives the set of pints that ar at equal distance from anz two closest obstacles. The shortest path is then computed on the voronoi diagramm. In short, the algorithm maximises the distance between the robot and the obstacles. While the resulting path is not optimal, it is the safest in order to avoid any collision with the obstacles."
   ]
  },
  {
   "cell_type": "code",
   "execution_count": 9,
   "id": "c3b6b073",
   "metadata": {},
   "outputs": [
    {
     "name": "stdout",
     "output_type": "stream",
     "text": [
      "goal is found!\n"
     ]
    },
    {
     "data": {
      "image/png": "[encoded data removed]",
      "text/plain": [
       "<Figure size 432x288 with 1 Axes>"
      ]
     },
     "metadata": {
      "needs_background": "light"
     },
     "output_type": "display_data"
    }
   ],
   "source": [
    "# Voronoi algorithm\n",
    "N_KNN = 1500  # number of edges from one sampled point\n",
    "MAX_EDGE_LEN = 10\n",
    "voronoi = VoronoiRoadMapPlanner(N_KNN, MAX_EDGE_LEN)\n",
    "rx, ry = voronoi.planning(sx, sy, gx, gy, ox, oy, robot_radius)\n",
    "\n",
    "plot_path(ox,oy,rx,ry,sx,sy,gx,gy)"
   ]
  },
  {
   "cell_type": "markdown",
   "id": "c554b633",
   "metadata": {},
   "source": [
    "By comparing the different algorithms we decide to use the path generated by the Voronoi Raod Map algorithm. While A* is considerably faster than the two other algorthms, and probablisitic road map delivers a nearly optimal path, Voronoi gives the safest path as it maximizes the distance to the obstacles. A* and PRM algorithms try to find the shortest path to the goal which leads to going close to the obstacle making unwanted collisions more probable."
   ]
  },
  {
   "cell_type": "markdown",
   "id": "e9b2bfb1",
   "metadata": {},
   "source": [
    "#### Smoothing the path"
   ]
  },
  {
   "cell_type": "markdown",
   "id": "3aee3b58",
   "metadata": {},
   "source": [
    "As we are using a non-holonomic robot, a smooth path is important. Added to that, the Voronoi algorithm only finds a path with a relatively low number of points. To solve these 2 problems, we interploate a function to the path points generated from the path planning algorithm using B-splines.  "
   ]
  },
  {
   "cell_type": "code",
   "execution_count": 11,
   "id": "61f1621c",
   "metadata": {},
   "outputs": [
    {
     "data": {
      "image/png": "[encoded data removed]",
      "text/plain": [
       "<Figure size 432x288 with 1 Axes>"
      ]
     },
     "metadata": {
      "needs_background": "light"
     },
     "output_type": "display_data"
    }
   ],
   "source": [
    "smooth_func, u = interpolate.splprep([rx, ry])\n",
    "rxint, ryint = interpolate.splev(np.linspace(0, 1, 150), smooth_func)\n",
    "plot_path(ox,oy,rxint,ryint, sx, sy, gx, gy)"
   ]
  },
  {
   "cell_type": "markdown",
   "id": "6e68afea",
   "metadata": {},
   "source": [
    "## Filtering"
   ]
  },
  {
   "cell_type": "markdown",
   "id": "e2bba579",
   "metadata": {},
   "source": [
    "## Filtering:\n",
    "\n",
    "To control the robot and let it follow the desired path, it is recquired to locate the robot in its enviornment. \n",
    "Different sensors are available and they give information about the robots pose and the evolution of the pose.\n",
    "To fuse the information that those sensors deliver, a filter technique is requried. \n",
    "Assuming that the noise on the sensors is Gaussian, Kalman Fitlering offers a simple solution to fuse different sensors. Therefore a Kalman Fitler has been implemented.\n",
    "\n",
    "## Kalman Filter\n",
    "\n",
    "Kalman Filtering estimates the state $x_k$ based on combining a predicted state with measurements $z_k$ that contain information of the state. The state vector $x_k$ at time step $k$ will be defined as $x_k = [px_k, py_k, \\theta_k,v_k,\\omega_k]^T$. Here $px_k$ and $py_k$ represent the x and y-position of the robot, while $\\theta_k$ represents the robots orientation. The linear and angular velocity of the robot are denoted by $v_k$ and $\\omega_k$. As mentioned before, Kalman Filtering combines measurements with state predictions. Therefore a motion and an observation model is required.\n",
    "\n",
    "### Motion model\n",
    "The motion model describes the evoultion of the state $x_{k+1}$ during one time step of duration $\\Delta_t$, based on its acutal state $x_k$ and the given input $u_k$. Linear $v_k$ and angular $\\omega_k$ velocities are choosen as an input to the model. The Thymio can be controlled by sending left and right wheels velocity commands to it. \n",
    "Those commands were translated to linear and angular velocities $v_k$ and $\\omega_k$ to use them as an input to the motion model. Furthermore, the motion model of the Kalman Filter is based on the assumption, that after one taken control action $u_k$ the robot stops moving until a new control action is taken. Therefore the used motion model is given by:\n",
    "\n",
    "\\begin{equation}\n",
    "x_{k+1} = Fx_k+Bu_k+w_k = \n",
    "\\begin{bmatrix}\n",
    "1 & 0 & 0 & 0 & 0 \\\\\n",
    "0 & 1 & 0 & 0 & 0 \\\\\n",
    "0 & 0 & 1 & 0 & 0 \\\\\n",
    "0 & 0 & 0 & 0 & 0 \\\\\n",
    "0 & 0 & 0 & 0 & 0 \\\\\n",
    "\\end{bmatrix}\n",
    "\\cdot\n",
    "\\begin{bmatrix}\n",
    "px_k \\\\\n",
    "py_k \\\\\n",
    "\\theta_k \\\\ \n",
    "v_k \\\\\n",
    "\\omega_k \\\\\n",
    "\\end{bmatrix}\n",
    "+\n",
    "\\begin{bmatrix}\n",
    "\\Delta_t \\cdot cos(\\theta_k) & 0 \\\\ \n",
    "\\Delta_t \\cdot sin(\\theta_k) & 0 \\\\\n",
    "0                            & \\Delta_t \\\\\n",
    "1                            & 0 \\\\\n",
    "0                            & 1\n",
    "\\end{bmatrix}\n",
    "\\begin{bmatrix}\n",
    "v_k \\\\\n",
    "\\omega_k\n",
    "\\end{bmatrix}\n",
    "+ w_k\n",
    "\\end{equation}\n",
    "\n",
    "The trigonometric functions contained in the motion model, make the motion model non-linear. Therefore, a nonlinear version of the Kalman Filter needs to be implemented. In the considered case, an Extended Kalman Filter (EKF) has been applied.\n",
    "\n",
    "### Observation model\n",
    "\n",
    "The observation model relates the measurements to the states. Since in the considered case all states are measured, the observation model becomes:\n",
    "\n",
    "\\begin{equation}\n",
    "z_k = Hx_k + \\nu_k = \n",
    "\\begin{bmatrix}\n",
    "1 & 0 & 0 & 0 & 0 \\\\\n",
    "0 & 1 & 0 & 0 & 0 \\\\\n",
    "0 & 0 & 1 & 0 & 0 \\\\\n",
    "0 & 0 & 0 & 1 & 0 \\\\\n",
    "0 & 0 & 0 & 0 & 1\n",
    "\\end{bmatrix}\n",
    "\\cdot\n",
    "\\begin{bmatrix}\n",
    "px_k \\\\\n",
    "py_k \\\\\n",
    "\\theta_k \\\\ \n",
    "v_k \\\\\n",
    "\\omega_k \\\\\n",
    "\\end{bmatrix}\n",
    "+\\nu_k\n",
    "\\end{equation}\n",
    "\n",
    "## Sensors \n",
    "As mentioned before, Kalman Filtering allows to fuse measurements retrieved from different sensors. The robots pose, defined by $[px_k,py_k,\\theta_k]^T$, is measured by the camera, whereas its velcoities $[v_k,\\omega_k]$ are measured by the Thymio itself. To fuse the information, Kalman Filtering requires an educated guess about the covariances values of the measurement noise $w_k$ and the process noise $\\nu_k$. The variance values of the measurement noise are stored on the diagonal of the measurement covaraince matrix $R$, whereas the varaince values of the process noise are stored on the diagonal of the process covariance matrix $Q$.\n",
    "The $Q$ and $R$ matrix define how much the Kalman Filter \"trusts\" the measurements and its previously predicted state when estimating the current state. Changing their values, changes the behavior of the Kalman Filter. Therefore, the behavior of the Kalman Filter can be \"tuned\" by changing the different variance values of the covariance matrix $Q$ and $R$.\n",
    "\n",
    "### Pose:\n",
    "The camera is used to measure the robots pose in its enviroment. To do so, it is made use of the Aruco package. Aruco is part of OpenCV and allows pose measurement using computer vision. More information about its working can be found here:(https://docs.opencv.org/4.x/d5/dae/tutorial_aruco_detection.html). To get an idea about the accuracy of the measurements the following paper was retrived: https://ria.ua.pt/bitstream/10773/23890/1/artigo.pdf. Under comaprable setup conditions, an orientation measurment accuracy of approximatly $1.4\\%$ was achieved by making use of Aruco markers. Assuming the same accuracy for x and y position measurements and translating it to the used scale, results in the following standard deviation values:\n",
    "\n",
    "\\begin{equation}\n",
    "\\sigma_x = 0.01764 m \\quad \\sigma_y = 0.008316m \\quad  \\sigma_{\\theta}= 0.04398rad\n",
    "\\end{equation}\n",
    " \n",
    "### Velocity: \n",
    "The velocity of the wheels are measured using the velocity measurements taken by the Thymio. Those measurements are translated to SI units. Afte that the translated right and left wheel velcoites $V_r$ and $V_l$ are used to calculate the linear $v$ and angular velocity $\\omega$ according to:\n",
    "\n",
    "\\begin{equation}\n",
    "     v = \\frac{V_r + V_l}{2} \\quad \\omega = \\frac{V_r-V_l}{L}\n",
    "\\end{equation}\n",
    "\n",
    "$L$ represents the wheel base of the robot, which was measured to be equal to $L = 0.095m$. Note, the same relation was used to translate the velocity commands to linear $v$ and angular $\\omega$ velocity for the motion model of the Kalman Filter.\n",
    "\n",
    "To get an estimate of the velocity measurement noise, the Thymio was driven with a constant input for a distance of $1m$. Assuming constant velocity, the velocity of the thymio was measured and the standard deviation of the data was calculated. During this expirment, the standard deviation was calculated to be less than $1\\frac{mm}{s}$. Since an empricial estiamted constant is used to translate the thymio velocity measurements to SI units, it is assumed that there is more uncertainty on the data. Therefore the velocity measurement noise variance was set to $\\sigma_ v= 3\\frac{mm}{s} = 0.003\\frac{m}{s}$. Assuming an equal percentage of noise on the angular velocity results in a angular velocity measurement standard deviation of $\\sigma_\\omega = 0.047 \\frac{rad}{s}$. \n",
    "\n",
    "### Covariance matrix :\n",
    "\n",
    "In the previous steps, it was explained how the measurement noise standard deviations for each measurement where derived. Therefore, the measurement noise covariance matrix $R$ is set to be equal to:\n",
    "\n",
    "\\begin{equation}\n",
    "R = \n",
    "\\begin{bmatrix} \n",
    "\\sigma_x^2 & 0 & 0 & 0 & 0 \\\\\n",
    "0        & \\sigma_y^2 & 0 & 0 & 0 \\\\\n",
    "0        &        0 & \\sigma_\\theta^2 & 0 & 0 \\\\\n",
    "0        &        0 & 0             & \\sigma_v^2 & 0 \\\\\n",
    "0        &        0 & 0             & 0        & \\sigma_\\omega^2\n",
    "\\end{bmatrix}\n",
    "= \n",
    "\\begin{bmatrix}\n",
    "{0.01764}^2 m^2 & 0 & 0 & 0 & 0 \\\\\n",
    "0        & 0.008316^2m^2 & 0 & 0 & 0 \\\\\n",
    "0        &        0 & 0.04398^2rad^2 & 0 & 0 \\\\\n",
    "0        &        0 & 0             & 0.003^2(\\frac{m}{s})^2 & 0 \\\\\n",
    "0        &        0 & 0             & 0        &  0.047^2 \\frac{rad}{s}^2\n",
    "\\end{bmatrix}\n",
    "\\end{equation}\n",
    "\n",
    "It is expected that during executing the code, the Kalman Filter receives unreliable/no pose measurment data of the camera (by holding the hand in front of the camera). This implies that for the pose, it is desired that the Kalman Filter \"trusts\" during state estimation more its motion model than the received measurements. This behavior can achieved by reducing the process noise variance values compared to the measurement noise variance values. Therefore, the process noise variance values for the pose are set to $0.2$ times the values of the measurement noise. In the case of the linear and angular velocity, it is not expected that during the expiriments the Kalman Filter stops receving measurements. Therefore the process noise variance values for linear and angular velocity are set to be equal to the measurement noise variance values. This initializes the process noise covariance matrix as:\n",
    "\n",
    "\\begin{equation}\n",
    "Q = \n",
    "\\begin{bmatrix} \n",
    "0.2\\cdot\\sigma_x^2 & 0 & 0 & 0 & 0 \\\\\n",
    "0        & 0.2\\cdot\\sigma_y^2 & 0 & 0 & 0 \\\\\n",
    "0        &        0 & 0.2\\cdot\\sigma_\\theta^2 & 0 & 0 \\\\\n",
    "0        &        0 & 0             & \\sigma_v^2 & 0 \\\\\n",
    "0        &        0 & 0             & 0        & \\sigma_\\omega^2\n",
    "\\end{bmatrix}\n",
    "= \n",
    "\\begin{bmatrix}\n",
    "{0.003528}^2 m^2 & 0 & 0 & 0 & 0 \\\\\n",
    "0        & 0.001663^2m^2 & 0 & 0 & 0 \\\\\n",
    "0        &        0 & 0.00880^2rad^2 & 0 & 0 \\\\\n",
    "0        &        0 & 0             & 0.003^2\\frac{m}{s}^2 & 0 \\\\\n",
    "0        &        0 & 0             & 0        &  0.047^2 (\\frac{rad}{s})^2\n",
    "\\end{bmatrix}\n",
    "\\end{equation}\n",
    "\n",
    "## Implementation\n",
    "\n",
    "The main function calls a function called kalman_measure. This function takes and stores the actual pose and velocity measurments. After taking the measurements, the function EKF() is called. It is defined in the ekf.py file. Furthermore it calls the functions ekf_correct() and ekf_predict(). Those functions perform the correction and prediction steps of the Kalman Filter.\n",
    "\n",
    "## Results:\n",
    "\n",
    "\n"
   ]
  },
  {
   "cell_type": "markdown",
   "id": "17d092a2",
   "metadata": {},
   "source": [
    "In the video below the performance of the Kalman Filter was tested. It can be recognized that the Kalman Filter manages to estimate the pose of the robot also in the situation of kidnapping successfully."
   ]
  },
  {
   "cell_type": "code",
   "execution_count": 12,
   "id": "d994ddf0",
   "metadata": {},
   "outputs": [
    {
     "data": {
      "text/html": [
       "<video src=\"Video/thymioVid_kidnapp.avi\" controls  >\n",
       "      Your browser does not support the <code>video</code> element.\n",
       "    </video>"
      ],
      "text/plain": [
       "<IPython.core.display.Video object>"
      ]
     },
     "execution_count": 12,
     "metadata": {},
     "output_type": "execute_result"
    }
   ],
   "source": [
    "Video(\"Video/thymioVid_kidnapp.avi\")"
   ]
  },
  {
   "cell_type": "markdown",
   "id": "6b309d3b",
   "metadata": {},
   "source": [
    "## Motion control"
   ]
  },
  {
   "cell_type": "markdown",
   "id": "2e234faf",
   "metadata": {},
   "source": [
    "#### First Alternative\n"
   ]
  },
  {
   "cell_type": "markdown",
   "id": "aa63a6a6",
   "metadata": {},
   "source": [
    "We use a basic control motion algorithm. To move from one point to the following on the path, we first compute the angle difference between the robot orientation and the straight line connecting the two successive points on the path. The robot rotates in the right direction until the kalman-filter angle estimate matches the angle of the connecting line (with a small range of error). The robot drives then with a constant speed in a straight line to the next position and stops when the difference between kalman-position estimate and the nest position is within a certain range. The motion control algorithm runs with a $5Hz$ frequency. \n",
    "\n",
    "This method was used combined with local obstacle avoidance and is shown in the video."
   ]
  },
  {
   "cell_type": "markdown",
   "id": "6e952e53",
   "metadata": {},
   "source": [
    "#### 2. Alternative"
   ]
  },
  {
   "cell_type": "markdown",
   "id": "8fbf4f63",
   "metadata": {},
   "source": [
    "To be able to control the robot, we first need a mathematical model. We llok at the one-cycle kinematic model that can deduced bz applying the trigonometric rules. The robot pose can be described in a 2-dimensional problem using 3 minimal-coordinates ($x$, $y$ and $\\theta$). The robot takes as input the translational velocity $v$ and angular velocity $\\omega$. The continous-time kinematic model of the robot is as following: \n",
    "$$\n",
    "\\dot {\\textbf{x}} = \\begin{bmatrix}\n",
    "x(t))\\\\\n",
    "y(t)\\\\\n",
    "\\theta(t)\n",
    "\\end{bmatrix}\n",
    "=\n",
    "\\begin{bmatrix}\n",
    "v(t)cos(\\theta(t))\\\\\n",
    "v(t)sin(\\theta(t))\\\\\n",
    "\\omega(t)\n",
    "\\end{bmatrix}\n",
    "$$\n",
    "\n",
    "In the case of a zero-order hold (input stays constant over the time-step). The details about the discretation process are ommited for brievety. As a result we get the exact discrete-time model. The discrete-time model is then inverted to compute an input $\\textbf{u}_k = [v_k, \\omega_k]$ from a start position $\\textbf{x}_k = [x_k, y_k, \\theta_k]$ and a goal position $\\textbf{x}_{k+1} = [x_{k+1}, y_{k+1}, \\theta_{k+1}]$.\n",
    "It is necessay to consider the liits on the input of the robot and the constraints acting on the robots kinematics. As a result it is important to have a smooth path with a big number of points and a relativelz large time step. \n",
    "\n"
   ]
  },
  {
   "cell_type": "markdown",
   "id": "e1a724a4",
   "metadata": {},
   "source": [
    "##### Factor estimation\n",
    "First step in the motion control is to determine the transform the thymio wheel speeds to SI units. Motion control works with linear and angular velocities, whereas the thymio takes unitless wheel velocities. To find the relationship between linear velocity and thymio wheel velocity we measure the time needed by the robot to travel 1 meter using different velocities. We use for this purpose the Aseba code provided by Ben Ari (for details see http://smart-machines.hs-kl.de/wp-content/uploads/2018/09/thymio-programming-exercises-en.pdf). \n",
    "\n",
    "Having the measurments, we fit a linear model:"
   ]
  },
  {
   "cell_type": "code",
   "execution_count": 15,
   "id": "86c95cb4",
   "metadata": {},
   "outputs": [
    {
     "name": "stdout",
     "output_type": "stream",
     "text": [
      "factor from thymio motor speed to linear velocity:  0.0002735\n"
     ]
    }
   ],
   "source": [
    "X = np.array([[100], [200], [300]])#, [400], [500]])\n",
    "y = np.array([[0.03], [0.0578], [0.0847]])#, [0.1126], [0.1316]])\n",
    "reg = LinearRegression().fit(X, y)\n",
    "factor = float(reg.coef_)\n",
    "print('factor from thymio motor speed to linear velocity: ', factor)"
   ]
  },
  {
   "cell_type": "markdown",
   "id": "8cea65a8",
   "metadata": {},
   "source": [
    "In the following video we run the method in an open-loop. here the pose of the robot is not measured and there is no feedback for correcting the error. The results shows that the robot was able to reach the goal.\n",
    "If we had more time, we would like to work on closing the loop and stabilizing the path following. The method is however still promising in staying on the path when the pose estiamation not available anymore. We couldn't implement this part either in the project due to lack of time."
   ]
  },
  {
   "cell_type": "code",
   "execution_count": 13,
   "id": "25d5b523",
   "metadata": {},
   "outputs": [
    {
     "data": {
      "text/html": [
       "<video src=\"Video/thymioVid_open1.avi\" controls  >\n",
       "      Your browser does not support the <code>video</code> element.\n",
       "    </video>"
      ],
      "text/plain": [
       "<IPython.core.display.Video object>"
      ]
     },
     "execution_count": 13,
     "metadata": {},
     "output_type": "execute_result"
    }
   ],
   "source": [
    "\n",
    "\n",
    "Video(\"Video/thymioVid_open1.avi\")\n"
   ]
  },
  {
   "cell_type": "markdown",
   "id": "0e767f26",
   "metadata": {},
   "source": [
    "## Local navigation "
   ]
  },
  {
   "cell_type": "markdown",
   "id": "0bc49dfa",
   "metadata": {},
   "source": [
    "### Local obstacle avoidance "
   ]
  },
  {
   "cell_type": "markdown",
   "id": "2ecf7047",
   "metadata": {},
   "source": [
    "During the global navigation, the Thymio is following the global trajectory. Unfortunately, some unforseen obstacle can appear. The robot should be able to avoid them and still follow its path. For this purpose a local obstacle avoidance should be implemented.\n",
    "\n",
    "To avoid local obstacles, during each iteration of the path planning, the proximity sensors are analyzed. \n",
    "When they exceed a certain limit it means that the obstacle is close. Then starts local obstacle avoidance.\n",
    "Otherwise, it continues to follow the defined path.\n",
    "\n",
    "The obstacle avoidance strategie used here is following the obstacle on the left side and leaving the obstacle as soon as the robot is close enoght to some coordinate of the path.\n",
    "\n",
    "As long as the object is close, the robot will turn to the left. Once the object is no longer in the field of view, the robot will slowly move forward and then turn to the right to test if the obstacle is still there or not. These steps will be repeated as long as the Thymio has not reached its initial path, this is test with the function *path_found*.\n",
    "\n",
    "The function *path_found* is linked to the position of the robot determined by the kalman filter and the path coordinates given by the Voroni filter. "
   ]
  },
  {
   "cell_type": "markdown",
   "id": "dcece811",
   "metadata": {},
   "source": [
    "# Conclusion"
   ]
  },
  {
   "cell_type": "markdown",
   "id": "904570ba",
   "metadata": {},
   "source": [
    "Finally, techniques of image processing, path planning, filtering, motion control and local obstacle avoidance have been combined. \n",
    "\n",
    "Till to the last moment, it was thrilling whether Thymio would be able to reach its goal. Luckily he did!\n",
    "\n",
    "For further reasearch we recomand to improve the motion control by making use of inverse kinematics. Open loop tests showed promesing results.\n",
    "\n",
    "It was a fun project, we learned a lot, and thats where we would like to thank you for.\n",
    "\n",
    "Finally, we as a group would also like to thank Romane for hosting us for an entire week almost 24/7. \n",
    "\n",
    "See you at the presentation!\n",
    "\n",
    "Best,\n",
    "\n",
    "Iskandar, Erik, Romane and Max"
   ]
  },
  {
   "cell_type": "code",
   "execution_count": null,
   "id": "33bb638b",
   "metadata": {},
   "outputs": [],
   "source": []
  }
 ],
 "metadata": {
  "kernelspec": {
   "display_name": "Python 3 (ipykernel)",
   "language": "python",
   "name": "python3"
  },
  "language_info": {
   "codemirror_mode": {
    "name": "ipython",
    "version": 3
   },
   "file_extension": ".py",
   "mimetype": "text/x-python",
   "name": "python",
   "nbconvert_exporter": "python",
   "pygments_lexer": "ipython3",
   "version": "3.8.8"
  }
 },
 "nbformat": 4,
 "nbformat_minor": 5
}
